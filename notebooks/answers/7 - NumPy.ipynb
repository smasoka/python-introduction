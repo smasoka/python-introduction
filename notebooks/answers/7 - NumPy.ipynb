{
 "cells": [
  {
   "cell_type": "markdown",
   "metadata": {},
   "source": [
    "# Exercises"
   ]
  },
  {
   "cell_type": "markdown",
   "metadata": {},
   "source": [
    "## Simple array manipulation\n",
    "\n",
    "Investigate the behavior of the statements below by looking\n",
    "at the values of the arrays a and b after assignments:\n",
    "```\n",
    "a = np.arange(5)\n",
    "b = a\n",
    "b[2] = -1\n",
    "b = a[:]\n",
    "b[1] = -1\n",
    "b = a.copy()\n",
    "b[0] = -1\n",
    "```"
   ]
  },
  {
   "cell_type": "code",
   "execution_count": null,
   "metadata": {
    "collapsed": true
   },
   "outputs": [],
   "source": []
  },
  {
   "cell_type": "markdown",
   "metadata": {},
   "source": [
    "Generate a 1D NumPy array containing numbers from -2 to 2\n",
    "in increments of 0.2. Use optional start and step arguments\n",
    "of **np.arange()** function."
   ]
  },
  {
   "cell_type": "code",
   "execution_count": 2,
   "metadata": {},
   "outputs": [
    {
     "name": "stdout",
     "output_type": "stream",
     "text": [
      "[ -2.00000000e+00  -1.80000000e+00  -1.60000000e+00  -1.40000000e+00\n",
      "  -1.20000000e+00  -1.00000000e+00  -8.00000000e-01  -6.00000000e-01\n",
      "  -4.00000000e-01  -2.00000000e-01  -4.44089210e-16   2.00000000e-01\n",
      "   4.00000000e-01   6.00000000e-01   8.00000000e-01   1.00000000e+00\n",
      "   1.20000000e+00   1.40000000e+00   1.60000000e+00   1.80000000e+00]\n"
     ]
    }
   ],
   "source": [
    "a = np.arange(-2, 2, 0.2)\n",
    "print(a)"
   ]
  },
  {
   "cell_type": "markdown",
   "metadata": {},
   "source": [
    "Generate another 1D NumPy array containing 11 equally\n",
    "spaced values between 0.5 and 1.5. Extract every second\n",
    "element of the array"
   ]
  },
  {
   "cell_type": "code",
   "execution_count": 3,
   "metadata": {},
   "outputs": [
    {
     "name": "stdout",
     "output_type": "stream",
     "text": [
      "[ 0.5  0.7  0.9  1.1  1.3  1.5]\n"
     ]
    }
   ],
   "source": [
    "a = np.linspace(0.5, 1.5, 11)\n",
    "print(a[::2])"
   ]
  },
  {
   "cell_type": "markdown",
   "metadata": {},
   "source": [
    "Create a 4x4 array with arbitrary values."
   ]
  },
  {
   "cell_type": "code",
   "execution_count": 4,
   "metadata": {},
   "outputs": [
    {
     "name": "stdout",
     "output_type": "stream",
     "text": [
      "[[ 0.17382811  0.17939998  0.514219    0.85153457]\n",
      " [ 0.10051708  0.86110504  0.06392096  0.07348439]\n",
      " [ 0.30461684  0.55643921  0.50297691  0.16013406]\n",
      " [ 0.59068665  0.00156514  0.8214445   0.77325615]]\n"
     ]
    }
   ],
   "source": [
    "a = np.random.random((4,4))\n",
    "print(a)"
   ]
  },
  {
   "cell_type": "markdown",
   "metadata": {},
   "source": [
    "Extract every element from the second row"
   ]
  },
  {
   "cell_type": "code",
   "execution_count": 5,
   "metadata": {},
   "outputs": [
    {
     "name": "stdout",
     "output_type": "stream",
     "text": [
      "[ 0.30461684  0.55643921  0.50297691  0.16013406]\n"
     ]
    }
   ],
   "source": [
    "print(a[2,:])"
   ]
  },
  {
   "cell_type": "markdown",
   "metadata": {},
   "source": [
    "Extract every element from the third column"
   ]
  },
  {
   "cell_type": "code",
   "execution_count": 6,
   "metadata": {},
   "outputs": [
    {
     "name": "stdout",
     "output_type": "stream",
     "text": [
      "[ 0.85153457  0.07348439  0.16013406  0.77325615]\n"
     ]
    }
   ],
   "source": [
    "print(a[:, 3])"
   ]
  },
  {
   "cell_type": "markdown",
   "metadata": {},
   "source": [
    "Assign a value of 0.21 to upper left 2x2 subarray."
   ]
  },
  {
   "cell_type": "code",
   "execution_count": 7,
   "metadata": {},
   "outputs": [
    {
     "name": "stdout",
     "output_type": "stream",
     "text": [
      "[[ 0.2         0.2         0.514219    0.85153457]\n",
      " [ 0.2         0.2         0.06392096  0.07348439]\n",
      " [ 0.30461684  0.55643921  0.50297691  0.16013406]\n",
      " [ 0.59068665  0.00156514  0.8214445   0.77325615]]\n"
     ]
    }
   ],
   "source": [
    "a[:2,:2] = 0.2\n",
    "print(a)"
   ]
  },
  {
   "cell_type": "markdown",
   "metadata": {},
   "source": [
    "## Simple plotting\n",
    "\n",
    "Plot to the same graph **sin** and **cos** functions in the interval $[-\\pi/2, \\pi/2]$. Use $\\theta$ as x-label and insert also legends."
   ]
  },
  {
   "cell_type": "code",
   "execution_count": 8,
   "metadata": {},
   "outputs": [
    {
     "data": {
      "text/plain": [
       "<matplotlib.legend.Legend at 0x7fd934e02d68>"
      ]
     },
     "execution_count": 8,
     "metadata": {},
     "output_type": "execute_result"
    },
    {
     "data": {
      "image/png": "[encoded data removed]",
      "text/plain": [
       "<matplotlib.figure.Figure at 0x7fd93c07d4e0>"
      ]
     },
     "metadata": {},
     "output_type": "display_data"
    }
   ],
   "source": [
    "%matplotlib inline\n",
    "import matplotlib.pyplot as plt\n",
    "theta = np.linspace(-np.pi / 2, np.pi / 2, 50)\n",
    "plt.plot(theta, np.sin(theta), label='sin')\n",
    "plt.plot(theta, np.cos(theta), label='cos')\n",
    "plt.xlabel(r'$\\theta$')\n",
    "plt.legend()"
   ]
  },
  {
   "cell_type": "markdown",
   "metadata": {},
   "source": [
    "## Pie chart\n",
    "\n",
    "The file \"../data/csc_usage.txt\" contains the usage of CSC servers by different disciplines. Plot a pie chart about the resource usage."
   ]
  },
  {
   "cell_type": "code",
   "execution_count": 9,
   "metadata": {},
   "outputs": [
    {
     "data": {
      "text/plain": [
       "([<matplotlib.patches.Wedge at 0x7fd934cf1518>,\n",
       "  <matplotlib.patches.Wedge at 0x7fd934cf4710>,\n",
       "  <matplotlib.patches.Wedge at 0x7fd934cfa908>,\n",
       "  <matplotlib.patches.Wedge at 0x7fd934cfeb00>,\n",
       "  <matplotlib.patches.Wedge at 0x7fd934d02cf8>],\n",
       " [<matplotlib.text.Text at 0x7fd934cf1cf8>,\n",
       "  <matplotlib.text.Text at 0x7fd934cf4ef0>,\n",
       "  <matplotlib.text.Text at 0x7fd934cfe128>,\n",
       "  <matplotlib.text.Text at 0x7fd934d02320>,\n",
       "  <matplotlib.text.Text at 0x7fd934d07518>],\n",
       " [<matplotlib.text.Text at 0x7fd934cf41d0>,\n",
       "  <matplotlib.text.Text at 0x7fd934cfa3c8>,\n",
       "  <matplotlib.text.Text at 0x7fd934cfe5c0>,\n",
       "  <matplotlib.text.Text at 0x7fd934d027b8>,\n",
       "  <matplotlib.text.Text at 0x7fd934d079b0>])"
      ]
     },
     "execution_count": 9,
     "metadata": {},
     "output_type": "execute_result"
    },
    {
     "data": {
      "image/png": "[encoded data removed]",
      "text/plain": [
       "<matplotlib.figure.Figure at 0x7fd93c0a05c0>"
      ]
     },
     "metadata": {},
     "output_type": "display_data"
    }
   ],
   "source": [
    "usage = {}\n",
    "with open('../data/csc_usage.txt') as f:\n",
    "    f.readline() # read the header\n",
    "    # read the data into a dictionary\n",
    "    for line in f:\n",
    "        line = line.split()\n",
    "        usage[line[0]] = float(line[1])\n",
    "\n",
    "labels = list(usage.keys())\n",
    "fracs = list(usage.values())\n",
    "# find out the largest fraction and explode that wedge\n",
    "explode = [0.0 for f in fracs]\n",
    "maxindex = fracs.index(max(fracs))\n",
    "explode[maxindex] = 0.05\n",
    "# make the actual plot\n",
    "plt.pie(fracs, explode=explode, labels=labels, autopct='%3.1f')\n"
   ]
  },
  {
   "cell_type": "markdown",
   "metadata": {},
   "source": [
    "## Bonus exercises\n",
    "\n",
    "### Numerical derivative with finite differences\n",
    "\n",
    "Derivatives can be calculated numerically with the finite-difference method\n",
    "as: \n",
    "\n",
    "$$ f'(x_i) = \\frac{f(x_i + \\Delta x)- f(x_i - \\Delta x)}{2 \\Delta x} $$\n",
    "\n",
    "Construct 1D Numpy array containing the values of xi in the interval $[0, \\pi/2]$ with spacing\n",
    "$\\Delta x = 0.1$. Evaluate numerically the derivative of **sin** in this\n",
    "interval (excluding the end points) using the above formula. Try to avoid\n",
    "`for` loops. Compare the result to function **cos** in the same interval."
   ]
  },
  {
   "cell_type": "code",
   "execution_count": 10,
   "metadata": {},
   "outputs": [
    {
     "data": {
      "text/plain": [
       "<matplotlib.legend.Legend at 0x7fd934ce1f28>"
      ]
     },
     "execution_count": 10,
     "metadata": {},
     "output_type": "execute_result"
    },
    {
     "data": {
      "image/png": "[encoded data removed]",
      "text/plain": [
       "<matplotlib.figure.Figure at 0x7fd934e4ce10>"
      ]
     },
     "metadata": {},
     "output_type": "display_data"
    }
   ],
   "source": [
    "def diff(f, xi, dx):\n",
    "    fi = f(xi)\n",
    "    return (fi[2:] - fi[:-2]) / (2.0*dx)\n",
    "\n",
    "dx = 0.10\n",
    "xi = np.arange(0, np.pi/2, dx)\n",
    "\n",
    "dfi = diff(np.sin, xi, dx)\n",
    "dref = np.cos(xi[1:-1])\n",
    "\n",
    "plt.plot(xi[1:-1], dfi, label='Num. deriv.')\n",
    "plt.plot(xi[1:-1], dref, label='Reference')\n",
    "plt.legend()"
   ]
  },
  {
   "cell_type": "markdown",
   "metadata": {},
   "source": [
    "### Game of Life\n",
    "Game of life is a cellular automaton devised by John Conway\n",
    "in 70's: http://en.wikipedia.org/wiki/Conway's_Game_of_Life\n",
    "\n",
    "The game consists of two dimensional orthogonal grid of\n",
    "cells. Cells are in two possible states, alive or dead. Each cell\n",
    "interacts with its eight neighbours, and at each time step the\n",
    "following transitions occur:\n",
    "* Any live cell with fewer than two live neighbours dies, as if\n",
    "caused by underpopulation\n",
    "* Any live cell with more than three live neighbours dies, as if\n",
    "by overcrowding\n",
    "* Any live cell with two or three live neighbours lives on to\n",
    "the next generation\n",
    "* Any dead cell with exactly three live neighbours becomes a\n",
    "live cell\n",
    "\n",
    "The initial pattern constitutes the seed of the system, and\n",
    "the system is left to evolve according to rules. Deads and\n",
    "births happen simultaneously.\n",
    "\n",
    "Implement the Game of Life using Numpy, and visualize the\n",
    "evolution with Matplotlib's **imshow**. Try first 32x32\n",
    "square grid and cross-shaped initial pattern:\n",
    "![Initial pattern for Game of Life](../images/gol.png)\n",
    "Try also other grids and initial patterns (e.g. random\n",
    "pattern). Try to avoid **for** loops."
   ]
  },
  {
   "cell_type": "code",
   "execution_count": 12,
   "metadata": {},
   "outputs": [
    {
     "data": {
      "image/png": "[encoded data removed]",
      "text/plain": [
       "<matplotlib.figure.Figure at 0x7fd934af9ef0>"
      ]
     },
     "metadata": {},
     "output_type": "display_data"
    }
   ],
   "source": [
    "def gol_update(board):\n",
    "    # number of neighbours that each square has\n",
    "    neighbours = np.zeros(board.shape)\n",
    "    neighbours[1:, 1:] += board[:-1, :-1]\n",
    "    neighbours[1:, :-1] += board[:-1, 1:]\n",
    "    neighbours[:-1, 1:] += board[1:, :-1]\n",
    "    neighbours[:-1, :-1] += board[1:, 1:]\n",
    "    neighbours[:-1, :] += board[1:, :]\n",
    "    neighbours[1:, :] += board[:-1, :]\n",
    "    neighbours[:, :-1] += board[:, 1:]\n",
    "    neighbours[:, 1:] += board[:, :-1]\n",
    "\n",
    "    new_board = np.where(neighbours < 2, 0, board)\n",
    "    new_board = np.where(neighbours > 3, 0, new_board)\n",
    "    new_board = np.where(neighbours == 3, 1, new_board)\n",
    "\n",
    "    # Periodic boundaries\n",
    "    new_board[0,:] = new_board[-1,:]\n",
    "    new_board[:,0] = new_board[:,-1]\n",
    "    return new_board\n",
    "\n",
    "# Cross pattern\n",
    "size = 32\n",
    "board = np.zeros((size, size), int)\n",
    "board[size // 2,:] = 1\n",
    "board[:,size // 2] = 1\n",
    "plt.imshow(board, cmap = plt.cm.prism)\n",
    "for iter in range(100):\n",
    "    board = gol_update(board)\n",
    "    plt.imshow(board, cmap = plt.cm.prism)\n",
    "    plt.title('Generation {0}'.format(iter))\n",
    "\n"
   ]
  },
  {
   "cell_type": "code",
   "execution_count": null,
   "metadata": {
    "collapsed": true
   },
   "outputs": [],
   "source": []
  }
 ],
 "metadata": {
  "kernelspec": {
   "display_name": "Python 3",
   "language": "python",
   "name": "python3"
  },
  "language_info": {
   "codemirror_mode": {
    "name": "ipython",
    "version": 3
   },
   "file_extension": ".py",
   "mimetype": "text/x-python",
   "name": "python",
   "nbconvert_exporter": "python",
   "pygments_lexer": "ipython3",
   "version": "3.7.1"
  }
 },
 "nbformat": 4,
 "nbformat_minor": 2
}
