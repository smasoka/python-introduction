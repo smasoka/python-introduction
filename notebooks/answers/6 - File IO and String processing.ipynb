{
 "cells": [
  {
   "cell_type": "markdown",
   "metadata": {},
   "source": [
    "# Exercises"
   ]
  },
  {
   "cell_type": "code",
   "execution_count": null,
   "metadata": {
    "collapsed": true
   },
   "outputs": [],
   "source": []
  },
  {
   "cell_type": "markdown",
   "metadata": {},
   "source": [
    "## Simple reading\n",
    "\n",
    "The file [../data/coordinates.txt](../data/coordinates.txt) contains list of (x, y) value pairs.\n",
    "Read the values into two lists x and y."
   ]
  },
  {
   "cell_type": "code",
   "execution_count": null,
   "metadata": {
    "collapsed": true
   },
   "outputs": [],
   "source": [
    "xs = []\n",
    "ys = []\n",
    "with open(\"../data/coordinates.txt\", \"r\") as f:\n",
    "    for line in f:\n",
    "        line = line.split()\n",
    "        xs.append(float(line[0]))\n",
    "        ys.append(float(line[1]))\n",
    "print(xs)\n",
    "print(ys)"
   ]
  },
  {
   "cell_type": "markdown",
   "metadata": {},
   "source": [
    "## Nontrivial reading and conversion\n",
    "\n",
    "The file [../data/CH4.pdb](../data/CH4.pdb) contains the coordinates of methane molecule in a PDB format. The file consists of header followed by record lines which contain the following fields:\n",
    "\n",
    "record name(=ATOM), atom serial number, atom name, x-,y-,z-coordinates, occupancy and temperature factor.\n",
    "\n",
    "i.e.\n",
    "```\n",
    "ATOM      2 H                   -0.627  -0.627   0.627  0.00  0.00\n",
    "```\n",
    "\n",
    "Convert the file into XYZ format: first line contains the\n",
    "number of atoms, second line is title string, and the\n",
    "following lines contain the atomic symbols and x-, y-, z-\n",
    "coordinates, all separated by white space. Write the\n",
    "coordinates with 6 decimals:\n",
    "\n",
    "```\n",
    "5\n",
    "Converted from PDB\n",
    "C    0.000000   0.000000   0.000000\n",
    "...\n",
    "```"
   ]
  },
  {
   "cell_type": "code",
   "execution_count": null,
   "metadata": {
    "collapsed": true
   },
   "outputs": [],
   "source": [
    "infile = '../data/CH4.pdb'\n",
    "outfile = infile.replace('.pdb', '.xyz')\n",
    "atoms = []\n",
    "with open(infile, \"r\") as f:\n",
    "    for line in f:\n",
    "        if 'ATOM' in line:\n",
    "            line = line.split()\n",
    "            symbol = line[2]\n",
    "            coords = [float(x) for x in line[3:6]]\n",
    "            atoms.append((symbol, coords))\n",
    "            \n",
    "with open(outfile, \"w\") as f:\n",
    "    f.write(\"{0}\\n\".format(len(atoms)))\n",
    "    f.write(\"Converted from PDB\\n\")\n",
    "    for atom in atoms:\n",
    "        f.write(\"{0:2s} {1:10.6f} {2:10.6f} {3:10.6f}\\n\".format(atom[0],\n",
    "                      atom[1][0], atom[1][1], atom[1][2]))\n"
   ]
  },
  {
   "cell_type": "markdown",
   "metadata": {},
   "source": [
    "# Bonus exercises"
   ]
  },
  {
   "cell_type": "markdown",
   "metadata": {},
   "source": [
    "## Delimiter separated values\n",
    "\n",
    "Many data exchange formats are so-called *[delimiter separated values](https://en.wikipedia.org/wiki/Delimiter-separated_values)*. The most commonly known of these is [CSV](https://en.wikipedia.org/wiki/Comma-separated_values).\n",
    "\n",
    "There are multiple caveats in the format, e.g. European languages use comma (,) as a decimal separator and semicolon (;) as the field separator. Most pure-English systems use the dot (.) for decimal separation and the comma (,) for field separation. \n",
    "\n",
    "Another family of systems uses whitespace, like space or tab characters to separate fields.\n",
    "\n",
    "Python's [csv](https://docs.python.org/3/library/csv.html) library supports most of the variance in different formats and it can be a time-saving tool to those who use Python and deal with file formats a lot.\n",
    "\n",
    "The file \"../data/iris.data\" is actually in CSV format even though the file ending doesn't explicitly say so (this is common).\n",
    "\n",
    "Read in iris.data and write out a tab-separated file \"iris.tsv\" using the `csv` module.\n",
    "\n",
    "Hint: because the first line of the input file has labels, csv.DictReader and csv.DictWriter are a good choice."
   ]
  },
  {
   "cell_type": "code",
   "execution_count": null,
   "metadata": {},
   "outputs": [],
   "source": [
    "import csv\n",
    "irises = []\n",
    "with open(\"../data/iris.data\") as inputfile:\n",
    "    chreader = csv.DictReader(inputfile)\n",
    "    for line in chreader:\n",
    "        irises.append(line)\n",
    "        \n",
    "print(irises[0])\n",
    "with open(\"../data/iris.tsv\", \"w\") as outputfile:\n",
    "    writer = csv.DictWriter(outputfile, delimiter=\"\\t\", fieldnames=[\"sepal.length\",\"sepal.width\",\"petal.length\",\"petal.width\",\"class\"])\n",
    "    writer.writeheader()\n",
    "    for iris in irises:\n",
    "        writer.writerow(iris)"
   ]
  },
  {
   "cell_type": "markdown",
   "metadata": {},
   "source": [
    "The file [../data/word_count.txt](../data/word_count.txt) contains a short piece of text. Determine the frequency of words in the file, i.e. how many times each word appears. Print out the ten most frequent words.\n",
    "\n",
    "Read the file line by line and use the split() function for separating a line into words.\n",
    "The frequencies are stored most conveniently into a dictionary. The dictionary method **setdefault** can be useful\n",
    "here. \n",
    "\n",
    "For sorting, convert the dictionary into a list of (key, value) pairs with the items() function:\n",
    "```\n",
    "words = {\"foo\" : 1, \"bar\" : 2}\n",
    "print(words.items())\n",
    "[('foo', 1), ('bar', 2)]\n",
    "```"
   ]
  },
  {
   "cell_type": "code",
   "execution_count": null,
   "metadata": {
    "collapsed": true
   },
   "outputs": [],
   "source": [
    "words = {}\n",
    "with open(\"../data/word_count.txt\", \"r\") as f:\n",
    "    for line in f:\n",
    "        line = line.split()\n",
    "        for word in line:\n",
    "            words.setdefault(word, 0)\n",
    "            words[word] += 1\n",
    "\n",
    "word_list = [(value, key) for key, value in words.items()]\n",
    "word_list.sort()\n",
    "word_list.reverse()\n",
    "for freq, word in word_list[:10]:\n",
    "    word = '\"%s\"' % word\n",
    "    print(\"The word {0:^15} appears {1:5} times\".format(word, freq))\n"
   ]
  },
  {
   "cell_type": "markdown",
   "metadata": {},
   "source": [
    "## Reading nucleotide sequences\n",
    "\n",
    "Fasta is a fileformat for storing nucleotide sequences. The sequences consist of header line, starting with **>**, followed by one or more lines containing the amino acids of the sequence presented by single-letter codes:\n",
    "```\n",
    ">5IRE:A|PDBID|CHAIN|SEQUENCE\n",
    "IRCIGVSNRDFVEGMSGGTWVDVVLEHGGCVTVMAQDKPTVDIELVTTTVSNMAEVRSYCYEASISDMASDSRCPTQGEA\n",
    "YLDKQSDTQYVCKRTLVDRGWGNGCGLFGKGSLVTCAKFACSKKMTGKSIQPENLEYRIMLSVHGSQHSGMIVNDTGHET\n",
    "...\n",
    "```\n",
    "The file [../data/5ire.fasta](../data/5ire.fasta) contains sequences for multiple chains of Zika virus. Read from the file the sequence of chain C (the chain ids are given in the header, i.e. the chain above is A).\n",
    "\n",
    "Find out which chains contain the subsequence **LDFSDL**.\n",
    "\n",
    "Hint: as the sequence is given in multiple lines, you should combine all the lines of a sequence into a single string. String object's **.strip()** method which removes newlines from the end of string is useful here."
   ]
  },
  {
   "cell_type": "code",
   "execution_count": null,
   "metadata": {},
   "outputs": [],
   "source": [
    "chains = {}\n",
    "with open(\"../data/5ire.fasta\", \"r\") as f:\n",
    "    for line in f:\n",
    "        if line.startswith('>'):\n",
    "            # We have a header\n",
    "            key = line.split('|')[0].split(':')[1]            \n",
    "            chains[key] = \"\"\n",
    "        else:\n",
    "            chains[key] += line.strip()\n",
    "\n",
    "print('Chain C:')\n",
    "print(chains['C'])\n",
    "print()\n",
    "\n",
    "subsequence = 'LDFSDL'\n",
    "for key, sequence in chains.items():\n",
    "    if subsequence in sequence:\n",
    "        print(\"Chain {0} contains subsequence {1}\".format(key, subsequence))\n",
    "    "
   ]
  }
 ],
 "metadata": {
  "kernelspec": {
   "display_name": "Python 3",
   "language": "python",
   "name": "python3"
  },
  "language_info": {
   "codemirror_mode": {
    "name": "ipython",
    "version": 3
   },
   "file_extension": ".py",
   "mimetype": "text/x-python",
   "name": "python",
   "nbconvert_exporter": "python",
   "pygments_lexer": "ipython3",
   "version": "3.7.1"
  }
 },
 "nbformat": 4,
 "nbformat_minor": 2
}
