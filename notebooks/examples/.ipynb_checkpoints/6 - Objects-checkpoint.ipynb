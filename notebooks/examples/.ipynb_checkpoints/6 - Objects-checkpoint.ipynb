{
 "cells": [
  {
   "cell_type": "markdown",
   "metadata": {},
   "source": [
    "# Objects\n",
    "\n",
    "An object is a combination of data and methods associated with the data. \n",
    "\n",
    "Here's a concrete example with docstrings explaining what goes on in each part.\n"
   ]
  },
  {
   "cell_type": "code",
   "execution_count": null,
   "metadata": {},
   "outputs": [],
   "source": [
    "class Student(object):\n",
    "    \"\"\"\n",
    "    The above states that the code-block (indented area) below will define a \n",
    "    class Student, that derives from a class called 'object'. Inheriting from 'object' is S\n",
    "    \n",
    "    \"\"\"\n",
    "    \n",
    "    def __init__(self, name, birthyear, interest=None):\n",
    "        \"\"\"__init__ is special method that is called when instantiating the object. \n",
    "        Typically the methods can then be used to \"\"\"\n",
    "        self.name = name\n",
    "        self.birthyear = birthyear\n",
    "        self.interest = interest\n",
    "        \n",
    "    def say_hi(self):\n",
    "        \"\"\" This is a classical example of a function that prints something. \n",
    "        The more complex your system, the less likely it is that it is a good idea to print anything other than \n",
    "        warnings from whithin your classes.\"\"\"\n",
    "        if not self.interest:\n",
    "            print(\"Hi, my name is \" + self.name + \"!\")\n",
    "        else:\n",
    "            print(\"Hi, my name is \" + self.name + \" and I'm interested in \" + self.interest + \".\")\n",
    "            \n",
    "    def get_age(self):\n",
    "        \"\"\" This is a much more style-pure example of classes. \n",
    "        Recording a birthyear instead of age is a good idea because next year we'll all be a year older.\n",
    "        However requiring everyone who uses your class is impolite and would lead to duplicate code. \n",
    "        Doing it once and asking everyone to use that implementation reduces code complexity and improves \n",
    "        maintainability.\n",
    "        \"\"\"\n",
    "        import datetime\n",
    "        return datetime.datetime.now().year-self.birthyear"
   ]
  },
  {
   "cell_type": "markdown",
   "metadata": {},
   "source": [
    "The above construct is a class, which is to say a model for creating objects.\n",
    "\n",
    "To create an object we say we instantiate a class."
   ]
  },
  {
   "cell_type": "code",
   "execution_count": null,
   "metadata": {},
   "outputs": [],
   "source": [
    "jyry = Student(\"Jyry\", 1984, interest=\"Python\")"
   ]
  },
  {
   "cell_type": "markdown",
   "metadata": {},
   "source": [
    "Now we have an object called \"jyry\", which has the value\n",
    "s listed above. We can call methods of the object and access the variables associated with the object."
   ]
  },
  {
   "cell_type": "code",
   "execution_count": null,
   "metadata": {},
   "outputs": [],
   "source": [
    "jyry.say_hi()"
   ]
  },
  {
   "cell_type": "code",
   "execution_count": null,
   "metadata": {},
   "outputs": [],
   "source": [
    "print(jyry.birthyear)"
   ]
  },
  {
   "cell_type": "markdown",
   "metadata": {},
   "source": [
    "One can create multiple objects that all have their own identity, even though they share some variables."
   ]
  },
  {
   "cell_type": "code",
   "execution_count": null,
   "metadata": {},
   "outputs": [],
   "source": [
    "tuomas = Student(\"Tuomas\", 1984, interest=\"Java\")\n",
    "tuomas.say_hi()\n"
   ]
  },
  {
   "cell_type": "markdown",
   "metadata": {},
   "source": [
    "Typically object comparison is done using the same syntax as for basic types (which, by the way are objects too in Python).\n",
    "\n",
    "If you want to implement special logic for comparisons in your own classes, look up **magic methods** either online or in another part of this introduction. It is a very common task and helps people who use your code (i.e. you)."
   ]
  },
  {
   "cell_type": "code",
   "execution_count": null,
   "metadata": {},
   "outputs": [],
   "source": [
    "tuomas == jyry"
   ]
  },
  {
   "cell_type": "markdown",
   "metadata": {},
   "source": [
    "Python permits the programmer to edit objects without any access control mechanics. See for example."
   ]
  },
  {
   "cell_type": "code",
   "execution_count": null,
   "metadata": {},
   "outputs": [],
   "source": [
    "jyry.interest = \"teaching\"\n",
    "jyry.say_hi()"
   ]
  },
  {
   "cell_type": "markdown",
   "metadata": {},
   "source": [
    "## Figuring out an object\n",
    "\n",
    "Opening a file using the `open` method returns an object."
   ]
  },
  {
   "cell_type": "code",
   "execution_count": null,
   "metadata": {},
   "outputs": [],
   "source": [
    "fobj = open(\"../data/grep.txt\")"
   ]
  },
  {
   "cell_type": "markdown",
   "metadata": {},
   "source": [
    "How can we find things out about this object? Below are a few examples:\n",
    "\n",
    "* printing calls the `__str__()`-method of the object, which should return a (more or less) human-readable definition of the object\n",
    "* `dir()` lists the attributes of an object, that is to say functions and variables associated with it\n",
    "* the `help`-function attempts to find the docstring for your function\n",
    "* the `__doc__` attribute of object members contains the docstring if available to the interpreter\n",
    "\n",
    "This list is not comprehensive."
   ]
  },
  {
   "cell_type": "code",
   "execution_count": null,
   "metadata": {},
   "outputs": [],
   "source": [
    "print(fobj)"
   ]
  },
  {
   "cell_type": "code",
   "execution_count": null,
   "metadata": {},
   "outputs": [],
   "source": [
    "dir(fobj)"
   ]
  },
  {
   "cell_type": "code",
   "execution_count": null,
   "metadata": {},
   "outputs": [],
   "source": [
    "help(jyry.say_hi)"
   ]
  },
  {
   "cell_type": "code",
   "execution_count": null,
   "metadata": {},
   "outputs": [],
   "source": [
    "jyry.say_hi.__doc__"
   ]
  },
  {
   "cell_type": "markdown",
   "metadata": {},
   "source": [
    "## Exceptions\n",
    "\n",
    "In Python, exceptions are lightweight, i.e. handling them doesn't cause a notable decrease in performance as happens in some languages.\n",
    "\n",
    "The purpose of exceptions is to communicate that something didn't go right. The name of the exception typically tells what kind of error ocurred and the exception can also contain a more explicit message."
   ]
  },
  {
   "cell_type": "code",
   "execution_count": null,
   "metadata": {
    "collapsed": true
   },
   "outputs": [],
   "source": [
    "class Container(object):\n",
    "    \n",
    "    def __init__(self):\n",
    "        self.bag = {}\n",
    "        \n",
    "    def put(self, key, item):\n",
    "        self.bag[key] = item\n",
    "        \n",
    "    def get(self, key):\n",
    "        return self.bag[key]"
   ]
  },
  {
   "cell_type": "markdown",
   "metadata": {},
   "source": [
    "The container-class can exhibit at least two different exceptions."
   ]
  },
  {
   "cell_type": "code",
   "execution_count": null,
   "metadata": {},
   "outputs": [],
   "source": [
    "container = Container()\n",
    "container.put([1, 2, 3], \"example\")"
   ]
  },
  {
   "cell_type": "code",
   "execution_count": null,
   "metadata": {},
   "outputs": [],
   "source": [
    "container.get(\"not_in_it\")"
   ]
  },
  {
   "cell_type": "markdown",
   "metadata": {},
   "source": [
    "Who should worry about the various issues is a good philosophical question. We could either make the Container-class secure in that it doesn't raise any errors to whoever calls it or we could let the caller worry about such errors.\n",
    "\n",
    "For now let's assume that the programmer is competent and knows what is a valid key and what isn't."
   ]
  },
  {
   "cell_type": "code",
   "execution_count": null,
   "metadata": {},
   "outputs": [],
   "source": [
    "try:\n",
    "    container = Container()\n",
    "    container.put([1,2,3], \"value\")\n",
    "except TypeError as err:\n",
    "    print(\"Stupid programmer caused an error: \" + str(err))"
   ]
  },
  {
   "cell_type": "markdown",
   "metadata": {},
   "source": [
    "A try-except may contain a ``finally``block, which is always guaranteed to execute.\n",
    "\n",
    "Also, it is permissible to catch multiple different errors."
   ]
  },
  {
   "cell_type": "code",
   "execution_count": null,
   "metadata": {},
   "outputs": [],
   "source": [
    "try:\n",
    "    container = Container()\n",
    "    container.put(3, \"value\")\n",
    "    container.get(3)\n",
    "except TypeError as err:\n",
    "    print(\"Stupid programmer caused an error: \" + str(err))\n",
    "except KeyError as err:\n",
    "    print(\"Stupid programmer caused another error: \" + str(err))\n",
    "finally:\n",
    "    print(\"all is well in the end\")\n",
    "    \n",
    "# go ahead, make changes that cause one of the exceptions to be raised"
   ]
  },
  {
   "cell_type": "markdown",
   "metadata": {},
   "source": [
    "There is also syntax for catching multiple error types in the same catch clause.\n",
    "\n",
    "The keyword ``raise`` is used to continue error handling. This is useful if you want to log errors but let them pass onward anyway.\n",
    "\n",
    "A ``raise`` without arguments will re-raise the error that was being handled."
   ]
  },
  {
   "cell_type": "code",
   "execution_count": null,
   "metadata": {},
   "outputs": [],
   "source": [
    "try:\n",
    "    container = Container()\n",
    "    container.put(3, \"value\")\n",
    "    container.get(5)\n",
    "except (TypeError, KeyError)  as err:\n",
    "    print(\"please shoot me\")\n",
    "    if type(err) == TypeError:\n",
    "        raise Exception(\"That's it I quit!\")\n",
    "    else:\n",
    "        raise"
   ]
  }
 ],
 "metadata": {
  "kernelspec": {
   "display_name": "Python 3",
   "language": "python",
   "name": "python3"
  },
  "language_info": {
   "codemirror_mode": {
    "name": "ipython",
    "version": 3
   },
   "file_extension": ".py",
   "mimetype": "text/x-python",
   "name": "python",
   "nbconvert_exporter": "python",
   "pygments_lexer": "ipython3",
   "version": "3.4.9"
  }
 },
 "nbformat": 4,
 "nbformat_minor": 1
}
