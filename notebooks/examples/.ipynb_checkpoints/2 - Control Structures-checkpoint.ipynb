{
 "cells": [
  {
   "cell_type": "markdown",
   "metadata": {},
   "source": [
    "## Conditional statements\n",
    "\n",
    "The most common conditional statement in Python is the if-elif-else statement:\n",
    "\n",
    "```\n",
    "if variable > 5:\n",
    "  do_something()\n",
    "elif variable > 0:\n",
    "  do_something_else()\n",
    "else:\n",
    "  give_up()\n",
    "```\n",
    "\n",
    "Compared to languages like C, Java or Lisp, do you feel something is missing?\n",
    "\n",
    "Python is whitespace-aware and it uses the so-called [off-side rule](https://en.wikipedia.org/wiki/Off-side_rule) to annotate **code blocks**. This has several benefits\n",
    "* It's easy to read at a glance\n",
    "* levels of indentation are processed [pre-attentively](https://en.wikipedia.org/wiki/Pre-attentive_processing) to conserve brain power for everything\n",
    "* It's easy to write without having to worry too much\n",
    "\n",
    "One corollary of the indentation is that you need to be very aware of when you're using the tabulator character and when you're using a space. Most Python programmers only use whitespace and configure their editor to output several spaces when tab is pressed.\n",
    "\n",
    "**Note**: the line before a deeper level of indentation ends in a colon \":\". This syntax is part of beginning a new code block and surprisingly easy to forget."
   ]
  },
  {
   "cell_type": "code",
   "execution_count": null,
   "metadata": {
    "collapsed": true
   },
   "outputs": [],
   "source": [
    "value = 4\n",
    "value = value + 1\n",
    "if value < 5:\n",
    "    print(\"value is less than 5\")\n",
    "elif value > 5:\n",
    "    print(\"value is more than 5\")\n",
    "else:\n",
    "    print(\"value is precisely 5\")\n",
    "# go ahead and experiment by changing the value\n"
   ]
  },
  {
   "cell_type": "markdown",
   "metadata": {},
   "source": [
    "There is no switch-case type of statement in Python.\n",
    "\n",
    "**Note**: When evaluating conditional statements the values 0, an empty string and an empty list all evaluate to False. This can be confusing as it is one of the few places where Python doesn't enforce strong typing."
   ]
  },
  {
   "cell_type": "code",
   "execution_count": null,
   "metadata": {
    "collapsed": true
   },
   "outputs": [],
   "source": [
    "list_ = [1]\n",
    "list_.pop()\n",
    "if not list_:\n",
    "    print(\"list is None or empty\")"
   ]
  },
  {
   "cell_type": "markdown",
   "metadata": {},
   "source": [
    "### While statement\n",
    "\n",
    "Python supports ``while`` statement familiar from many languages. It is not nearly as much used because of iterators (covered later).\n",
    "\n",
    "```\n",
    "value = 5\n",
    "while value > 0:\n",
    "  value = do_something(value)\n",
    "```\n",
    "\n",
    "The following example shows how a list is used as the conditional."
   ]
  },
  {
   "cell_type": "code",
   "execution_count": null,
   "metadata": {
    "collapsed": true
   },
   "outputs": [],
   "source": [
    "list_ = [1, 2, 3, 4]\n",
    "while list_: # remember, an empty list evaluates as False for conditional purposes\n",
    "    print(list_.pop()) # pop() removes the last entry from the list"
   ]
  },
  {
   "cell_type": "markdown",
   "metadata": {},
   "source": [
    "## Iterating\n",
    "\n",
    "Python has a ``for``-loop statement that is similar to the foreach statement in a lot of other languages.\n",
    "\n",
    "It is possible to loop over any iterables, i.e. lists, sets, tuples, even dicts."
   ]
  },
  {
   "cell_type": "code",
   "execution_count": null,
   "metadata": {
    "collapsed": true
   },
   "outputs": [],
   "source": [
    "synonyms = [\"is dead\", \"has kicked the bucket\", \"is no more\", \"ceased to be\"]\n",
    "for phrase in synonyms:\n",
    "    print(\"This parrot \" + phrase + \".\")"
   ]
  },
  {
   "cell_type": "markdown",
   "metadata": {},
   "source": [
    "It is possible to unpack things in this stage if that is required."
   ]
  },
  {
   "cell_type": "code",
   "execution_count": null,
   "metadata": {
    "collapsed": true
   },
   "outputs": [],
   "source": [
    "pairs = (\n",
    "        (1, 2),\n",
    "        [3, 4],\n",
    "        (5, 6),\n",
    ")\n",
    "\n",
    "for x, y in pairs:\n",
    "    print(\"A is \" + str(x))\n",
    "    print(\"B is \" + str(y))"
   ]
  },
  {
   "cell_type": "markdown",
   "metadata": {},
   "source": [
    "In dictionaries the **keys** are iterated over by default."
   ]
  },
  {
   "cell_type": "code",
   "execution_count": null,
   "metadata": {
    "collapsed": true
   },
   "outputs": [],
   "source": [
    "airspeed_swallows = {\"African\": 20, \"European\": 30}\n",
    "for swallow in airspeed_swallows:\n",
    "    print(\"The air speed of \" + swallow + \" swallows is \"+ str(airspeed_swallows[swallow]))"
   ]
  },
  {
   "cell_type": "markdown",
   "metadata": {},
   "source": [
    "It is still possible to loop through numbers using the built-in ``range`` function that returns an iterable with numbers in sequence. "
   ]
  },
  {
   "cell_type": "code",
   "execution_count": null,
   "metadata": {
    "collapsed": true
   },
   "outputs": [],
   "source": [
    "for i in range(5):\n",
    "    print(str(i))"
   ]
  },
  {
   "cell_type": "code",
   "execution_count": null,
   "metadata": {
    "collapsed": true
   },
   "outputs": [],
   "source": [
    "# The function supports arbitary step lengths and going backwards\n",
    "\n",
    "for i in range(99, 90, -2): # parameters are from, to and step length in that order\n",
    "    print(str(i) +\" boxes of bottles of beer on the wall\")"
   ]
  },
  {
   "cell_type": "markdown",
   "metadata": {},
   "source": [
    "The function ``enumerate`` returns the values it's given with their number in the collection."
   ]
  },
  {
   "cell_type": "code",
   "execution_count": null,
   "metadata": {
    "collapsed": true
   },
   "outputs": [],
   "source": [
    "my_list = [\"a\", \"b\", \"c\", \"d\", \"e\"]\n",
    "for index, string in enumerate(my_list):\n",
    "    print(string +\" is the alphabet number \"+ str(index))"
   ]
  },
  {
   "cell_type": "markdown",
   "metadata": {},
   "source": [
    "### Breaking and continuing\n",
    "\n",
    "Sometimes it is necessary to stop the execution of a loop before it's time. For that there is the ``break`` keyword.\n",
    "\n",
    "At other times it is desired to end that particular step in the loop and immediately move to the next one.\n",
    "\n",
    "Both of the keywords could be substituted with complex if-else statements but a well-considered break or continue statement is more readable to the next programmer."
   ]
  },
  {
   "cell_type": "code",
   "execution_count": null,
   "metadata": {
    "collapsed": true
   },
   "outputs": [],
   "source": [
    "for i in range(20):\n",
    "    if i % 7 == 6: # modulo operator\n",
    "        break #\n",
    "    print(i)"
   ]
  },
  {
   "cell_type": "code",
   "execution_count": null,
   "metadata": {
    "collapsed": true
   },
   "outputs": [],
   "source": [
    "for i in range(-5, 5, 1):\n",
    "  if i == 0:\n",
    "        print (\"not dividing by 0\")\n",
    "        continue\n",
    "  print(\"5/\" + str(i) + \" equals \" + str(5/i))"
   ]
  },
  {
   "cell_type": "markdown",
   "metadata": {},
   "source": [
    "## List comprehension\n",
    "\n",
    "The act of modifying all the values in a list into a new list  is so common in programming that there is a special syntax for it in python, the list comprehension.\n"
   ]
  },
  {
   "cell_type": "code",
   "execution_count": null,
   "metadata": {
    "collapsed": true
   },
   "outputs": [],
   "source": [
    "list_ = [value*3-1 for value in range(5)]\n",
    "list_"
   ]
  },
  {
   "cell_type": "markdown",
   "metadata": {},
   "source": [
    "It is not necessary to use list comprehensions but they are mentioned so they can be understood if discovered in other programs.\n",
    "\n",
    "Part of the Zen of Python says\n",
    "\n",
    "    There should be one-- and preferably only one --obvious way to do it.\n",
    "    Although that way may not be obvious at first unless you're Dutch.\n",
    "    \n",
    "List comprehensions are the one and obvious way to do these kinds of operations so they are presented even though they may be considered \"advanced\" syntax.\n",
    "\n",
    "There is also possibility to add a simple test to the statement."
   ]
  },
  {
   "cell_type": "code",
   "execution_count": null,
   "metadata": {
    "collapsed": true
   },
   "outputs": [],
   "source": [
    "list_2 = [value*3-1 for value in range(10) if value % 2 == 0] #only take even numbers\n",
    "list_2"
   ]
  },
  {
   "cell_type": "markdown",
   "metadata": {},
   "source": [
    "**Note:** List comprehensions always create the entire list in memory. When handling large amounts of data or in an environment with limited memory it's often a good idea to avoid creating large data structures in memory.\n",
    "\n",
    "In Python a language feature called **generators** helps you do this. There is extra material about this in another notebook."
   ]
  },
  {
   "cell_type": "markdown",
   "metadata": {},
   "source": [
    "## Exercises"
   ]
  },
  {
   "cell_type": "markdown",
   "metadata": {},
   "source": [
    "See under ../exercises/"
   ]
  }
 ],
 "metadata": {
  "kernelspec": {
   "display_name": "Python 3",
   "language": "python",
   "name": "python3"
  },
  "language_info": {
   "codemirror_mode": {
    "name": "ipython",
    "version": 3
   },
   "file_extension": ".py",
   "mimetype": "text/x-python",
   "name": "python",
   "nbconvert_exporter": "python",
   "pygments_lexer": "ipython3",
   "version": "3.4.9"
  }
 },
 "nbformat": 4,
 "nbformat_minor": 2
}
