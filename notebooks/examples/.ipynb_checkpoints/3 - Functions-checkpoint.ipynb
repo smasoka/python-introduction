{
 "cells": [
  {
   "cell_type": "markdown",
   "metadata": {},
   "source": [
    "# Functions\n"
   ]
  },
  {
   "cell_type": "markdown",
   "metadata": {},
   "source": [
    "## Functions and function arguments\n",
    "\n",
    "Functions are the building blocks of writing software. If a function is associated with an object and it's data, it is called a method. \n",
    "\n",
    "Functions are defined using the keyword ``def``.\n",
    "\n",
    "There are two types of arguments\n",
    "* regular arguments, which must always be given when calling the function\n",
    "* keyword arguments, that have a default value that can be overriden if desired\n",
    "\n",
    "Values are returned using the ``return`` keyword. If not ``return`` is defined, the default return value of all functions and methods is **None**, which is the null object in Python."
   ]
  },
  {
   "cell_type": "code",
   "execution_count": null,
   "metadata": {
    "collapsed": true
   },
   "outputs": [],
   "source": [
    "def my_function(arg_one, arg_two, optional_1=6, optional_2=\"seven\"):\n",
    "    return \" \".join([str(arg_one), str(arg_two), str(optional_1), str(optional_2)])\n",
    "\n",
    "print(my_function(\"a\", \"b\"))\n",
    "print(my_function(\"a\", \"b\", optional_2=\"eight\"))\n",
    "\n",
    "#go ahead and try out different components"
   ]
  },
  {
   "cell_type": "markdown",
   "metadata": {},
   "source": [
    "Python has special syntax for catching an arbitary number of parameters. For regular parameters it is a variable with one asterisk \\* and for keyword parameters it is a variable with two asterisks. It is conventional to name these ``*args`` and ``**kwargs``, but this is not required."
   ]
  },
  {
   "cell_type": "code",
   "execution_count": null,
   "metadata": {
    "collapsed": true
   },
   "outputs": [],
   "source": [
    "def count_args(*args, **kwargs):\n",
    "    print(\"i was called with \" + str(len(args)) + \" arguments and \" + str(len(kwargs)) + \" keyword arguments\")\n",
    "    \n",
    "count_args(1, 2, 3, 4, 5, foo=1, bar=2)"
   ]
  },
  {
   "cell_type": "markdown",
   "metadata": {},
   "source": [
    "The length of sequences can be checked using the built-in **len()** function.\n"
   ]
  },
  {
   "cell_type": "markdown",
   "metadata": {},
   "source": [
    "It is standard practice to document a function using **docstrings**. A docstring is just a simple triple-quoted string immediately after the function definition. It is also possible to have docstrings in the beginning of a source code file and after a class definition."
   ]
  },
  {
   "cell_type": "code",
   "execution_count": null,
   "metadata": {
    "collapsed": true
   },
   "outputs": [],
   "source": [
    "def random():\n",
    "    \"\"\"\n",
    "    Always the number 4. \n",
    "    Chosen by fair dice roll. Guaranteed to be random.\n",
    "    \"\"\"\n",
    "    return 4"
   ]
  },
  {
   "cell_type": "markdown",
   "metadata": {},
   "source": [
    "#### Functions as parameters\n",
    "\n",
    "Functions are first-class citizens in Python, which means that they can be e.g. passed to other functions. This is the first step into the world of functional programming, an elegant weapon for a more civilized age."
   ]
  },
  {
   "cell_type": "code",
   "execution_count": null,
   "metadata": {
    "collapsed": true
   },
   "outputs": [],
   "source": [
    "def print_dashes():\n",
    "    print(\"---\")\n",
    "    \n",
    "def print_asterisks():\n",
    "    print(\"***\")\n",
    "    \n",
    "def pretty_print(string, function):\n",
    "    function()\n",
    "    print(string)\n",
    "    function()\n",
    "    \n",
    "pretty_print(\"hello\", print_dashes)\n",
    "pretty_print(\"hey\", print_asterisks)"
   ]
  },
  {
   "cell_type": "markdown",
   "metadata": {},
   "source": [
    "### Extra: Lambda\n",
    "\n",
    "When we use the keyword `def` we are making a named function. Sometimes we want a simple function to use once without without binding it to any name.\n",
    "\n",
    "\n",
    "Consider the following data structure."
   ]
  },
  {
   "cell_type": "code",
   "execution_count": null,
   "metadata": {
    "collapsed": true
   },
   "outputs": [],
   "source": [
    "dictionaries = [\n",
    "    {\"name\": \"Jack\", \"age\": 35, \"telephone\": \"555-1234\"},\n",
    "    {\"name\": \"Jane\", \"age\": 40, \"telephone\":  \"555-3331\"},\n",
    "    {\"name\": \"Joe\", \"age\": 20, \"telephone\": \"555-8765\"}\n",
    "]"
   ]
  },
  {
   "cell_type": "markdown",
   "metadata": {},
   "source": [
    "Now if we want to sort it using Python's built-in `sort()` function the sort won't know which attribute to base the sorting on.\n",
    "\n",
    "Fortunately the `sort()` function takes a named parameter called `key` which is a function to be called on each item in the list. The return value will be used for the name.\n",
    "\n",
    "(Python's `sort()` sorts the list in-place. If you want to keep the list unmodified use `sorted()`)"
   ]
  },
  {
   "cell_type": "code",
   "execution_count": null,
   "metadata": {
    "collapsed": true
   },
   "outputs": [],
   "source": [
    "def get_age(x):\n",
    "    return x[\"age\"]\n",
    "\n",
    "dictionaries.sort(key=get_age)\n",
    "dictionaries"
   ]
  },
  {
   "cell_type": "markdown",
   "metadata": {},
   "source": [
    "This is all nice and well, but now you have a function called get_age that you don't intend to use a second time.\n",
    "\n",
    "An alternative way to give this would be using a lambda expression. "
   ]
  },
  {
   "cell_type": "code",
   "execution_count": null,
   "metadata": {
    "collapsed": true
   },
   "outputs": [],
   "source": [
    "dictionaries.sort(key=lambda x: x[\"age\"], reverse=True)\n",
    "dictionaries"
   ]
  },
  {
   "cell_type": "markdown",
   "metadata": {},
   "source": [
    "The keyword `lambda` is followed by one or more names of parameters, in this case just the one x. The colon separates the the function definition from the function and a `return` is implied.\n",
    "\n",
    "The lambda expression and the get_age function do the exact same thing.\n",
    "\n"
   ]
  }
 ],
 "metadata": {
  "kernelspec": {
   "display_name": "Python 3",
   "language": "python",
   "name": "python3"
  },
  "language_info": {
   "codemirror_mode": {
    "name": "ipython",
    "version": 3
   },
   "file_extension": ".py",
   "mimetype": "text/x-python",
   "name": "python",
   "nbconvert_exporter": "python",
   "pygments_lexer": "ipython3",
   "version": "3.4.9"
  }
 },
 "nbformat": 4,
 "nbformat_minor": 2
}
