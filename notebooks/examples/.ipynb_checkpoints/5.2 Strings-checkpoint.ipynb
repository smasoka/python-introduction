{
 "cells": [
  {
   "cell_type": "markdown",
   "metadata": {},
   "source": [
    "# Strings\n",
    "\n",
    "The most major difference between Python versions 2 and 3 is in string handling. \n",
    "\n",
    "In Python 3 all strings are by default Unicode strings. The Python interpreter expects Python source files to be UTF-8 encoded Unicode strings.\n",
    "\n",
    "What Unicode is beyond the scope of this course, but you can check\n",
    "* [the Python documentation](https://docs.python.org/3/howto/unicode.html)\n",
    "* [the Wikipedia article on Unicode](https://docs.python.org/3/howto/unicode.html)\n",
    "* [the Unicode consortium home pages](http://www.unicode.org/)\n",
    "* your resident programmer (warning: you may be in for along monologue)\n",
    "\n",
    "If you don't what Unicode or encodings are, do not despair. You will find out if you need to find out and people have lived their entire lives happily without knowing what encodings are.\n",
    "\n",
    "Suffice to say that it is safe to use Unicode characters in strings and in variable names in Python 3."
   ]
  },
  {
   "cell_type": "code",
   "execution_count": null,
   "metadata": {
    "collapsed": false
   },
   "outputs": [],
   "source": [
    "ananasakäämä = \"höhö 电脑\"\n",
    "print(ananasakäämä)"
   ]
  },
  {
   "cell_type": "markdown",
   "metadata": {},
   "source": [
    "## Extra material\n",
    "\n",
    "If you want to represent a character that for some reason you can't enter in your system or if you want to keep your source code ASCII-only (not necessarily a bad idea) you can enter non-ASCII characters "
   ]
  },
  {
   "cell_type": "code",
   "execution_count": null,
   "metadata": {
    "collapsed": false
   },
   "outputs": [],
   "source": [
    "print(\"\\N{GREEK CAPITAL LETTER DELTA}\") # using the character name\n",
    "print(\"\\u0394\")                         # using a 16-bit hex value\n",
    "print(\"\\U00000394\")                     # using a 32-bit hex value"
   ]
  },
  {
   "cell_type": "markdown",
   "metadata": {},
   "source": [
    "If you have a bytes-object you can call the ``decode()`` method on it and give an encoding as an argument. Conversely you can ``encode()`` a string. \n"
   ]
  },
  {
   "cell_type": "markdown",
   "metadata": {},
   "source": [
    "## Creating Strings\n",
    "\n",
    "Both single '' and double \"\" quotes denote a string. They are equally valid and it is a question of preference which to use. It is recommended to be consistent within the same file, though.\n",
    "\n",
    "It is permissible to use single quotes inside a double-quoted string or double quotes inside a single quoted string.\n",
    "\n",
    "If you want to have the same kind of quotes inside a string, you must **escape** the quotes in the string with a backslash \\\\. As it is the escape character, any backslashes must be entered as double \\\\\\\\ to create a single literal backslash in a string."
   ]
  },
  {
   "cell_type": "code",
   "execution_count": null,
   "metadata": {
    "collapsed": false
   },
   "outputs": [],
   "source": [
    "permissible = \"la'l'a'a\"\n",
    "print(permissible)\n",
    "permissible = 'la\"l\"a\"a'\n",
    "print(permissible)\n",
    "permissible = \"\\\"i am a quote \\\\ \\\"\"\n",
    "print(permissible)"
   ]
  },
  {
   "cell_type": "markdown",
   "metadata": {},
   "source": [
    "There are several ways to create multiline strings\n",
    "* multiline string notation using triple quotes\n",
    "* having multiple consecutive string literals inside parentheses, they will be interpreted as one"
   ]
  },
  {
   "cell_type": "code",
   "execution_count": null,
   "metadata": {
    "collapsed": false
   },
   "outputs": [],
   "source": [
    "permissible = \"\"\"\n",
    "i am a multi\n",
    "line\n",
    "string\n",
    "\"\"\"\n",
    "print(permissible)"
   ]
  },
  {
   "cell_type": "code",
   "execution_count": null,
   "metadata": {
    "collapsed": false
   },
   "outputs": [],
   "source": [
    "permissible = (\"i\"\n",
    "              \" am\" #note the whitespace before the word inside the string\n",
    "              ' a'\n",
    "              \" multiline\"\n",
    "              ' string')\n",
    "print(permissible)"
   ]
  },
  {
   "cell_type": "markdown",
   "metadata": {},
   "source": [
    "## String wrangling\n",
    "\n",
    "First it is essential to remember that strings are immutable: whatever you do with a string, it will not change. Most methods on strings will return a new, modified string or some other object.\n",
    "\n",
    "If you have any programming experience many of the following examples will seem familiar to you.\n",
    "\n",
    "A complete list can, as always be found at the [documentation](https://docs.python.org/3/library/stdtypes.html#string-methods)."
   ]
  },
  {
   "cell_type": "code",
   "execution_count": null,
   "metadata": {
    "collapsed": true
   },
   "outputs": [],
   "source": [
    "example = \"The quick brown fox jumps over the lazy dog  \""
   ]
  },
  {
   "cell_type": "code",
   "execution_count": null,
   "metadata": {
    "collapsed": false
   },
   "outputs": [],
   "source": [
    "## the split function splits at whitespace by default\n",
    "example.split()"
   ]
  },
  {
   "cell_type": "markdown",
   "metadata": {},
   "source": [
    "It can be given any parameter. Te return value is a list so it can be indexed with []."
   ]
  },
  {
   "cell_type": "code",
   "execution_count": null,
   "metadata": {
    "collapsed": false
   },
   "outputs": [],
   "source": [
    "example.split(\"e\")[0]"
   ]
  },
  {
   "cell_type": "markdown",
   "metadata": {},
   "source": [
    "Strings can be indexed and sliced using the same notation as lists"
   ]
  },
  {
   "cell_type": "code",
   "execution_count": null,
   "metadata": {
    "collapsed": false
   },
   "outputs": [],
   "source": [
    "example[5:10]"
   ]
  },
  {
   "cell_type": "markdown",
   "metadata": {},
   "source": [
    "The ``strip()`` function removes the first and last instances of a character from the string, defaulting to whitespace. This is surprisingly often needed."
   ]
  },
  {
   "cell_type": "code",
   "execution_count": null,
   "metadata": {
    "collapsed": false
   },
   "outputs": [],
   "source": [
    "example.strip()"
   ]
  },
  {
   "cell_type": "markdown",
   "metadata": {},
   "source": [
    "Strings can be coerced to ``lower()`` or ``upper()`` case."
   ]
  },
  {
   "cell_type": "code",
   "execution_count": null,
   "metadata": {
    "collapsed": false
   },
   "outputs": [],
   "source": [
    "example.upper()"
   ]
  },
  {
   "cell_type": "markdown",
   "metadata": {},
   "source": [
    "Seeking a substring is also implemented with the ``find()`` method. It returns an index."
   ]
  },
  {
   "cell_type": "code",
   "execution_count": null,
   "metadata": {
    "collapsed": false
   },
   "outputs": [],
   "source": [
    "example.find(\"ick\")"
   ]
  },
  {
   "cell_type": "markdown",
   "metadata": {},
   "source": [
    "Sometimes it's important to know if a string is a digit or numeric."
   ]
  },
  {
   "cell_type": "code",
   "execution_count": null,
   "metadata": {
    "collapsed": false
   },
   "outputs": [],
   "source": [
    "\"124\".isdigit()"
   ]
  },
  {
   "cell_type": "markdown",
   "metadata": {},
   "source": []
  }
 ],
 "metadata": {
  "kernelspec": {
   "display_name": "Python 3",
   "language": "python",
   "name": "python3"
  },
  "language_info": {
   "codemirror_mode": {
    "name": "ipython",
    "version": 3
   },
   "file_extension": ".py",
   "mimetype": "text/x-python",
   "name": "python",
   "nbconvert_exporter": "python",
   "pygments_lexer": "ipython3",
   "version": "3.5.2"
  }
 },
 "nbformat": 4,
 "nbformat_minor": 2
}
