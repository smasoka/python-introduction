{
 "cells": [
  {
   "cell_type": "markdown",
   "metadata": {},
   "source": [
    "# Exercises\n",
    "## Hello world\n",
    "\n",
    "Most introduction to programming session start with a Hello World example.\n",
    "\n",
    "The gray cell below is what is called a code-cell. You can execute it by clicking on it and pressing ctrl+enter. Alternately you can find the button that looks like the \"Play\"-symbol in the toolbar above."
   ]
  },
  {
   "cell_type": "code",
   "execution_count": null,
   "metadata": {},
   "outputs": [],
   "source": [
    "print(\"Hello World!\")"
   ]
  },
  {
   "cell_type": "markdown",
   "metadata": {},
   "source": [
    "The system that creates this webpage is called [Jupyter Notebooks](http://jupyter.org/). It is a language-independent system for displaying program code on a webpage, running the code in a server environment and displaying the output of the system to the user.\n",
    "\n",
    "The exercises here will be conducted in Python 3, but the system supports multiple other languages. The purpose of having this very simple introduction early on is to make sure everyone is able to access their environment.\n",
    "\n",
    "Go ahead and make your own Hello World below."
   ]
  },
  {
   "cell_type": "code",
   "execution_count": null,
   "metadata": {
    "collapsed": true
   },
   "outputs": [],
   "source": []
  },
  {
   "cell_type": "markdown",
   "metadata": {},
   "source": [
    "## Using the interactive interpreter\n",
    "\n",
    "When working in the command line the interactive IPython interpreter can sometimes be more convenient than Jupyter notebook. Launch a terminal using the \"New\" -> \"Terminal\" functionality and start IPython by typing ``ipython`` in the terminal. Execute ``print(\"Hello\")`` in the interactive interpreter. You can exit the interactive interpreter with the ``quit`` command"
   ]
  },
  {
   "cell_type": "markdown",
   "metadata": {},
   "source": [
    "## Working with Python scripts\n",
    "\n",
    "In larger problems one typical writes the Python code in one or multiple .py files. In the terminal opened above create a file ``hello.py`` (use e.g. the **nano** texteditor) and place a proper ``print`` function there. After saving the file and exiting the editor execute the script with ``python hello.py``."
   ]
  },
  {
   "cell_type": "markdown",
   "metadata": {},
   "source": [
    "## Extra: calculator"
   ]
  },
  {
   "cell_type": "markdown",
   "metadata": {},
   "source": [
    "You can use Python as a simple calculator. Try it out below if you have time. \n",
    "\n",
    "Try to figure out (or google) how to do exponentiation, e.g. $2^5$."
   ]
  },
  {
   "cell_type": "code",
   "execution_count": null,
   "metadata": {
    "collapsed": true
   },
   "outputs": [],
   "source": []
  }
 ],
 "metadata": {
  "kernelspec": {
   "display_name": "Python 3",
   "language": "python",
   "name": "python3"
  },
  "language_info": {
   "codemirror_mode": {
    "name": "ipython",
    "version": 3
   },
   "file_extension": ".py",
   "mimetype": "text/x-python",
   "name": "python",
   "nbconvert_exporter": "python",
   "pygments_lexer": "ipython3",
   "version": "3.4.9"
  }
 },
 "nbformat": 4,
 "nbformat_minor": 2
}
