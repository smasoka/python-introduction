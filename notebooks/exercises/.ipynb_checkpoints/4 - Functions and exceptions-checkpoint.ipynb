{
 "cells": [
  {
   "cell_type": "markdown",
   "metadata": {},
   "source": [
    "# Functions and exceptions"
   ]
  },
  {
   "cell_type": "markdown",
   "metadata": {},
   "source": [
    "## Functions\n",
    "\n",
    "Write a function that converts from Celsius to Kelvin.\n",
    "\n",
    "To convert from Celsius to Kelvin you add 273.15 from the value.\n",
    "\n",
    "Try your solution for a few values."
   ]
  },
  {
   "cell_type": "code",
   "execution_count": null,
   "metadata": {
    "collapsed": true
   },
   "outputs": [],
   "source": [
    "def celsius_to_kelvin(c):\n",
    "    # implementation here\n",
    "    pass\n",
    "\n",
    "celsius_to_kelvin(0)"
   ]
  },
  {
   "cell_type": "markdown",
   "metadata": {
    "collapsed": true
   },
   "source": [
    "Now write another function to convert from Fahrenheit to Celsius.\n",
    "\n",
    "The formula for doing so is \n",
    "\n",
    "C = 5/9*(F-32)\n",
    "\n",
    "Again, verify that your function does what is expected."
   ]
  },
  {
   "cell_type": "code",
   "execution_count": null,
   "metadata": {
    "collapsed": true
   },
   "outputs": [],
   "source": [
    "def fahrenheit_to_celsius(f):\n",
    "    pass\n",
    "\n",
    "fahrenheit_to_celsius(0)"
   ]
  },
  {
   "cell_type": "markdown",
   "metadata": {},
   "source": [
    "Now make a function to convert from Fahrenheit to Kelvin.\n",
    "\n",
    "Before you start coding, stop to think for a second. You can actually re-use the two other functions you have made. Fahrenheit to Kelvin can be represented as Fahrenheit to Celsius followed by Celsius to Kelvin."
   ]
  },
  {
   "cell_type": "code",
   "execution_count": null,
   "metadata": {
    "collapsed": true
   },
   "outputs": [],
   "source": [
    "def fahrenheit_to_kelvin(f):\n",
    "    pass\n",
    "\n",
    "fahrenheit_to_kelvin(0)"
   ]
  },
  {
   "cell_type": "markdown",
   "metadata": {},
   "source": [
    "Finally, implement a more general conversion function that takes as arguments also the input and output scales, e.g. **from_scale** and **to_scale**. Provide default values for **from_scale** and **to_scale**, and call the function with different number of arguments. Try to call the function using both positional and keyword arguments. Which approach is more readable for you?"
   ]
  },
  {
   "cell_type": "code",
   "execution_count": null,
   "metadata": {
    "collapsed": true
   },
   "outputs": [],
   "source": []
  },
  {
   "cell_type": "markdown",
   "metadata": {},
   "source": [
    "## Exceptions\n",
    "\n",
    "Ok, here's some code that fails. Find out at least 2 errors it raises by giving different inputs.\n",
    "\n",
    "Then construct a ``try-except`` clause around the lines of code."
   ]
  },
  {
   "cell_type": "code",
   "execution_count": null,
   "metadata": {
    "collapsed": true
   },
   "outputs": [],
   "source": [
    "var = float(input(\"give a number: \"))\n",
    "divided = 1/var"
   ]
  },
  {
   "cell_type": "markdown",
   "metadata": {},
   "source": [
    "The `open` function is used to open files for reading or writing. We'll get to that but first let's try to open a file that doesn't exist.\n",
    "\n",
    "Filesystem related errors are very common. A file might not exist or for some reason the user might not have the rights to open the file. Go ahead and make a try-except clause to catch this error."
   ]
  },
  {
   "cell_type": "code",
   "execution_count": null,
   "metadata": {
    "collapsed": true
   },
   "outputs": [],
   "source": [
    "file_handle = open(\"i_dont_exist\", \"r\")"
   ]
  },
  {
   "cell_type": "markdown",
   "metadata": {},
   "source": [
    "## Compound"
   ]
  },
  {
   "cell_type": "markdown",
   "metadata": {},
   "source": [
    "Implement the three remaining functions so you can convert freely between Fahrenheit and Kelvin.\n",
    "\n",
    "Now look at the temperature_converter function. Try to figure out what errors malformed user input can cause. You can either wrap the function call in a ``try-except`` or you can wrap parts of the function.\n",
    "\n",
    "If you have time you can increase the complexity of the function to cover centigrade conversions as well but this is not required. Hint: if you always convert the value to centigrade if it is not and to the desired output if desired output is not you can simplify the code."
   ]
  },
  {
   "cell_type": "code",
   "execution_count": null,
   "metadata": {
    "collapsed": true
   },
   "outputs": [],
   "source": [
    "def celsius_to_fahrenheit(c):\n",
    "    pass\n",
    "\n",
    "def kelvin_to_celsius(k):\n",
    "    pass\n",
    "\n",
    "def kelvin_to_fahrenheit(k):\n",
    "    pass\n",
    "\n",
    "def temperature_converter():\n",
    "    from_scale = input(\"Give scale to convert from: \")\n",
    "    to_scale = input(\"Give scale to convert to: \")\n",
    "    value = float(input(\"Give temperature: \"))\n",
    "    if from_scale == \"K\" and to_scale == \"F\":\n",
    "        return kelvin_to_fahrenheit(value)\n",
    "    elif from_scale == \"F\" and to_scale == \"K\":\n",
    "        return fahrenheit_to_kelvin\n",
    "    elif from_scale == \"C\" or to_scale == \"C\":\n",
    "        raise NotImplementedError(\"Conversion to Celsius not implemented!\")\n",
    "    return\n",
    "\n",
    "temperature_converter()"
   ]
  }
 ],
 "metadata": {
  "kernelspec": {
   "display_name": "Python 3",
   "language": "python",
   "name": "python3"
  },
  "language_info": {
   "codemirror_mode": {
    "name": "ipython",
    "version": 3
   },
   "file_extension": ".py",
   "mimetype": "text/x-python",
   "name": "python",
   "nbconvert_exporter": "python",
   "pygments_lexer": "ipython3",
   "version": "3.4.9"
  }
 },
 "nbformat": 4,
 "nbformat_minor": 2
}
